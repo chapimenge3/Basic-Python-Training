{
  "cells": [
    {
      "cell_type": "markdown",
      "metadata": {},
      "source": [
        "A class in programming is like a blueprint for creating objects, similar to how a car manufacturer creates a blueprint for a new car model. The class defines the properties and methods of an object, just like how a blueprint defines the characteristics of a car.\n",
        "\n",
        "When creating objects from a class, we use the class definition to create many identical objects, each with its own unique values for the attributes. And just like how you can modify the blueprint to create new car models with different features and attributes, you can modify a class to create new types of objects with different properties and methods, making classes a powerful tool in programming.\n",
        "\n",
        "Let's say we want to create a Car class with two attributes: color and doors. We can define the class like this:"
      ]
    },
    {
      "cell_type": "code",
      "execution_count": 5,
      "metadata": {},
      "outputs": [],
      "source": [
        "class Car:\n",
        "    def __init__(self, color, doors):\n",
        "        self.color = color\n",
        "        self.doors = doors"
      ]
    },
    {
      "attachments": {},
      "cell_type": "markdown",
      "metadata": {},
      "source": [
        "Here, `__init__` is a special function called a constructor that gets called when we create a new Car object. \n",
        "\n",
        "`self` refers to the object we're creating - it's like the assembly line worker building the car according to the blueprint. We use self.color and self.doors to store the values of the attributes for each object.\n",
        "\n",
        "Now, let's create an instance of the Car class and store it in a variable called johns_car:"
      ]
    },
    {
      "cell_type": "code",
      "execution_count": 15,
      "metadata": {},
      "outputs": [],
      "source": [
        "johns_car = Car('green', 4)\n",
        "\n",
        "chapi = Car('red', 2)"
      ]
    },
    {
      "cell_type": "markdown",
      "metadata": {},
      "source": [
        "Here, we're creating a new Car object with color set to 'red' and doors set to 4, and we're storing it in the variable johns_car.\n",
        "\n",
        "We can access the attributes of johns_car using dot notation:"
      ]
    },
    {
      "cell_type": "code",
      "execution_count": 16,
      "metadata": {},
      "outputs": [
        {
          "name": "stdout",
          "output_type": "stream",
          "text": [
            "green\n",
            "4\n",
            "chapi's car red\n"
          ]
        }
      ],
      "source": [
        "print(johns_car.color) # Output: 'red'\n",
        "print(johns_car.doors) # Output: 4\n",
        "\n",
        "print(\"chapi's car\", chapi.color)"
      ]
    },
    {
      "attachments": {},
      "cell_type": "markdown",
      "metadata": {},
      "source": [
        "This will print out the values of color and doors for johns_car.\n",
        "\n",
        "In summary, we can think of a class like a blueprint for creating objects, and the constructor (`__init__`) as the assembly line worker that creates each object according to the blueprint. We use self to refer to the object being created, and we use dot notation to access and modify the attributes of each object."
      ]
    },
    {
      "attachments": {},
      "cell_type": "markdown",
      "id": "e6ef43e0",
      "metadata": {},
      "source": [
        "We can modify an object's attributes after it's created like this:"
      ]
    },
    {
      "cell_type": "code",
      "execution_count": 17,
      "id": "48bfb3a8",
      "metadata": {},
      "outputs": [
        {
          "name": "stdout",
          "output_type": "stream",
          "text": [
            "Chapi car is  red\n",
            "After paint Chapi car is blue\n"
          ]
        }
      ],
      "source": [
        "def paint_car(car, color):\n",
        "    car.color = color\n",
        "\n",
        "print('Chapi car is ', chapi.color) # Output: 'red'\n",
        "\n",
        "paint_car(chapi, 'blue')\n",
        "\n",
        "print('After paint Chapi car is', chapi.color) # Output: 'blue'"
      ]
    },
    {
      "attachments": {},
      "cell_type": "markdown",
      "id": "38f215a6",
      "metadata": {},
      "source": [
        "Classes can also have functions (called methods) that can use the object attributes. This is a powerful idea because it allows you to create many objects from one class that all have the same methods but different attributes."
      ]
    },
    {
      "cell_type": "code",
      "execution_count": 18,
      "id": "114d347a",
      "metadata": {},
      "outputs": [
        {
          "name": "stdout",
          "output_type": "stream",
          "text": [
            "A red car with 4 doors\n",
            "A blue car with 4 doors\n"
          ]
        }
      ],
      "source": [
        "class Car:\n",
        "    def __init__(self, color, doors):\n",
        "        self.color = color\n",
        "        self.doors = doors\n",
        "    \n",
        "    def paint_car(self, color):  # All class methods have self as first parameter, which refers to the object calling the method\n",
        "        self.color = color\n",
        "  \n",
        "    def print_car_information(self):\n",
        "        print(\"A\", self.color, \"car with\", self.doors, \"doors\")\n",
        "\n",
        "johns_car = Car('red', 4)\n",
        "johns_car.print_car_information() # Note: we don't need a parameter when calling this method. Why?\n",
        "johns_car.paint_car('blue') # We only gave one parameter, even though paint_car() requires two. Self will be provided automatically.\n",
        "johns_car.print_car_information()\n"
      ]
    },
    {
      "attachments": {},
      "cell_type": "markdown",
      "id": "fe383ffa",
      "metadata": {},
      "source": [
        "As you can see earlier we are printing the car information with the help of `print_car_information` instead what if we just want to print the object and see the information. We can do that by defining a `__str__` method in our class."
      ]
    },
    {
      "cell_type": "code",
      "execution_count": 22,
      "id": "b39e5abc",
      "metadata": {},
      "outputs": [
        {
          "name": "stdout",
          "output_type": "stream",
          "text": [
            "<__main__.Car object at 0x7f0e98effd30>\n"
          ]
        }
      ],
      "source": [
        "# before we implement the __str__ method let's print the object\n",
        "print(johns_car)"
      ]
    },
    {
      "attachments": {},
      "cell_type": "markdown",
      "id": "35afe450",
      "metadata": {},
      "source": [
        "When you print(johns_car), you get a cryptic looking message telling you that johns_car is a Car object at the memory address 0x7f04b4754790. This message isn’t very helpful. You can change what gets printed by defining a special instance method called .__str__().\n"
      ]
    },
    {
      "cell_type": "code",
      "execution_count": 26,
      "id": "95932140",
      "metadata": {},
      "outputs": [
        {
          "name": "stdout",
          "output_type": "stream",
          "text": [
            "A red car with 4 doors and price is 10\n"
          ]
        }
      ],
      "source": [
        "class Car:\n",
        "    def __init__(self, color, doors, price):\n",
        "        self.color = color\n",
        "        self.doors = doors\n",
        "        if price == 0:\n",
        "            self.price = 'free'\n",
        "        else:\n",
        "            self.price = price\n",
        "    \n",
        "    def __str__(self):\n",
        "        return \"A \" + self.color + \" car with \" + str(self.doors) + \" doors and price is \" + str(self.price)\n",
        "\n",
        "    def paint_car(self, color):\n",
        "        self.color = color\n",
        "    \n",
        "    def set_speed(self, speed):\n",
        "        self.speed = speed\n",
        "    \n",
        "def print_car_information(car):\n",
        "    print(\"A\", car.color, \"car with\", car.doors, \"doors\")\n",
        "\n",
        "johns_car = Car('red', 4, 10)\n",
        "print(johns_car)"
      ]
    },
    {
      "attachments": {},
      "cell_type": "markdown",
      "id": "fae94b4b",
      "metadata": {},
      "source": [
        "Methods like `.__init__()` and `.__str__()` are called dunder methods because they begin and end with double underscores. There are many dunder methods that you can use to customize classes in Python. Although too advanced a topic for a beginning Python book, understanding dunder methods is an important part of mastering object-oriented programming in Python.\n",
        "\n"
      ]
    },
    {
      "cell_type": "code",
      "execution_count": null,
      "id": "2b7bd459",
      "metadata": {},
      "outputs": [],
      "source": []
    }
  ],
  "metadata": {
    "kernelspec": {
      "display_name": "Python 3",
      "language": "python",
      "name": "python3"
    },
    "language_info": {
      "codemirror_mode": {
        "name": "ipython",
        "version": 3
      },
      "file_extension": ".py",
      "mimetype": "text/x-python",
      "name": "python",
      "nbconvert_exporter": "python",
      "pygments_lexer": "ipython3",
      "version": "3.10.6"
    }
  },
  "nbformat": 4,
  "nbformat_minor": 5
}
