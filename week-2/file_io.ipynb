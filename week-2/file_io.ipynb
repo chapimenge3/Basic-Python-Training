{
 "cells": [
  {
   "cell_type": "markdown",
   "metadata": {},
   "source": [
    "Files are a fundamental part of computing, and you likely encounter them on a daily basis. Whether it's a document, photo, or video, files are used to store and organize data. In Python, we can read and write files using the built-in functions and methods available in the language. Understanding file I/O is an essential skill for any Python programmer."
   ]
  },
  {
   "cell_type": "markdown",
   "metadata": {},
   "source": [
    "The primary reason for accessing files in programming is to store data outside the program. This allows data to persist even after the program has finished executing. Additionally, files can be used to transfer data between different programs or machines. For example, you might use a file to transfer a database backup from one server to another. Finally, files can be used to consume data. For instance, a program might read a configuration file to determine its settings.\n",
    "\n"
   ]
  },
  {
   "cell_type": "markdown",
   "metadata": {},
   "source": [
    "There are mainly two types of files: text and binary. Text files are files that contain printable characters and are usually human-readable. They can be created and edited using a text editor like Notepad or VS Code. Binary files, on the other hand, contain non-printable characters and are not human-readable. They can be created and edited using specialized software like image editors or compilers. For the purpose of this lesson, we'll only use text files.\n"
   ]
  },
  {
   "cell_type": "markdown",
   "metadata": {},
   "source": [
    "In Python, we can interact with files using the built-in function `open()`. We specify the path to the file we want to access, as well as what we want to do with the file (read or write). \n",
    "Let's start by looking at the function syntax:\n"
   ]
  },
  {
   "cell_type": "code",
   "execution_count": 1,
   "metadata": {},
   "outputs": [],
   "source": [
    "# We must create the file we want to read before reading it, otherwise it will give an error\n",
    "file = open(\"test_file.txt\", \"r\")\n",
    "\n",
    "# r - read the file\n",
    "# w - write to the file(replace the old content)\n",
    "# a - append to the file\n",
    "# rb - read the file in binary format\n",
    "# wb - write to the file in binary format"
   ]
  },
  {
   "cell_type": "markdown",
   "metadata": {},
   "source": [
    "We now have opened a file named `test_file.txt` in read mode. This means we can now read the contents of the file using the `read()` method.\n"
   ]
  },
  {
   "cell_type": "code",
   "execution_count": 2,
   "metadata": {},
   "outputs": [
    {
     "name": "stdout",
     "output_type": "stream",
     "text": [
      "Line 1\n",
      "Line 2\n",
      "Line 3\n",
      "Glass \n",
      "Door\n",
      "This text will be appended to the file\n",
      "\n"
     ]
    }
   ],
   "source": [
    "contents = file.read() # the .read method reads the entire contents of the file\n",
    "\n",
    "print(contents)\n",
    "\n",
    "file.close()"
   ]
  },
  {
   "cell_type": "markdown",
   "metadata": {},
   "source": [
    "The above code will print the contents of `test_file.txt` to the terminal. We maynot always want to read an entire file at once, however. Instead, we may want to read just the first few lines. There are a few ways to accomplish this, let's take a look at a few of them.\n"
   ]
  },
  {
   "cell_type": "code",
   "execution_count": 5,
   "metadata": {},
   "outputs": [
    {
     "name": "stdout",
     "output_type": "stream",
     "text": [
      "Line 1\n"
     ]
    }
   ],
   "source": [
    "# we can pass in the number of characters we want to read as an argument\n",
    "# read just the first 5 characters\n",
    "\n",
    "file = open(\"test_file.txt\", \"r\")\n",
    "\n",
    "first_4_chars = file.read(6)\n",
    "\n",
    "print(first_4_chars)\n",
    "file.close()\n"
   ]
  },
  {
   "cell_type": "code",
   "execution_count": 7,
   "metadata": {},
   "outputs": [
    {
     "name": "stdout",
     "output_type": "stream",
     "text": [
      "Line 1 is this one\n",
      "\n",
      "Line 2\n",
      "\n"
     ]
    }
   ],
   "source": [
    "# we can use the readline() method to read only one line at a time\n",
    "\n",
    "file = open(\"test_file.txt\", \"r\")\n",
    "\n",
    "first_line = file.readline()\n",
    "\n",
    "print(first_line)\n",
    "\n",
    "# we can call .readline() again to read the next line\n",
    "second_line = file.readline()\n",
    "\n",
    "print(second_line)\n",
    "\n",
    "file.close()\n"
   ]
  },
  {
   "cell_type": "code",
   "execution_count": 8,
   "metadata": {},
   "outputs": [
    {
     "name": "stdout",
     "output_type": "stream",
     "text": [
      "Line 1 is this one\n",
      "\n",
      "Line 2\n",
      "\n",
      "Line 3\n",
      "\n",
      "Glass \n",
      "\n",
      "Door\n",
      "\n",
      "This text will be appended to the file\n",
      "\n"
     ]
    }
   ],
   "source": [
    "# we can use the readlines() method to read all lines of a file into a list\n",
    "\n",
    "file = open(\"test_file.txt\", \"r\")\n",
    "\n",
    "lines = file.readlines()\n",
    "\n",
    "for line in lines:\n",
    "  print(line)\n",
    "\n",
    "# the above code prints each line from the file on a separate line\n",
    "\n",
    "file.close()"
   ]
  },
  {
   "cell_type": "markdown",
   "metadata": {},
   "source": [
    "It's important to close files after we're done working with them. When we open a file using the `open()` function, Python creates a file object that holds the file's contents in memory. If we don't close the file, this object will continue to occupy system resources until the program ends. This is a very bad practice, because it can lead to slower performance or worse, a program crash.\n"
   ]
  },
  {
   "cell_type": "code",
   "execution_count": 9,
   "metadata": {},
   "outputs": [],
   "source": [
    "file = open(\"test_file.txt\", \"r\")\n",
    "\n",
    "contents = file.read()\n",
    "\n",
    "# Do stuff with contents\n",
    "\n",
    "file.close() # this closes the file so that it is no longer being used.\n"
   ]
  },
  {
   "cell_type": "code",
   "execution_count": 10,
   "metadata": {},
   "outputs": [
    {
     "ename": "ValueError",
     "evalue": "I/O operation on closed file.",
     "output_type": "error",
     "traceback": [
      "\u001b[0;31m---------------------------------------------------------------------------\u001b[0m",
      "\u001b[0;31mValueError\u001b[0m                                Traceback (most recent call last)",
      "Cell \u001b[0;32mIn[10], line 3\u001b[0m\n\u001b[1;32m      1\u001b[0m \u001b[39m# if we attempt to use a file after we've closed it, we'll get an error.\u001b[39;00m\n\u001b[0;32m----> 3\u001b[0m file\u001b[39m.\u001b[39;49mread() \u001b[39m# ERROR! the file has already been closed\u001b[39;00m\n",
      "\u001b[0;31mValueError\u001b[0m: I/O operation on closed file."
     ]
    }
   ],
   "source": [
    "\n",
    "# if we attempt to use a file after we've closed it, we'll get an error.\n",
    "\n",
    "file.read() # ERROR! the file has already been closed\n"
   ]
  },
  {
   "cell_type": "markdown",
   "metadata": {},
   "source": [
    "Continuing on with file I/O in Python, let's take a look at writing to a file. Writing to a file is just as important as reading from one, as it allows us to store and update data for future use.\n",
    "\n",
    "To write to a file, we need to open it in write mode using the open() function. Beware, if the file already exists, opening it in write mode will erase its existing contents.\n",
    "\n",
    "Here's an example of how to do that:\n"
   ]
  },
  {
   "cell_type": "code",
   "execution_count": 15,
   "metadata": {},
   "outputs": [],
   "source": [
    "#This code will open a new file called test_file.txt or erase the contents of an existing file by that name\n",
    "file = open(\"test_file-1.txt\", \"w\") \n"
   ]
  },
  {
   "cell_type": "markdown",
   "metadata": {},
   "source": [
    "In this example, we're opening a file named test_file.txt in write mode. This means we can write to the file using the write() method.\n"
   ]
  },
  {
   "cell_type": "code",
   "execution_count": 16,
   "metadata": {},
   "outputs": [],
   "source": [
    "file.write(\"Hello, world!\\n\") # \\n creates a new line\n",
    "\n",
    "file.close()\n",
    "\n",
    "# If we open the file now, we will see the line of text we just wrote to it."
   ]
  },
  {
   "cell_type": "markdown",
   "metadata": {},
   "source": [
    "The above code will write the string \"Hello, world!\" to the file and then close the file. Note that the \\n character is used to create a new line after the string is written.\n",
    "\n",
    "We can also use the writelines() method to write multiple lines to a file at once. Here's an example:\n"
   ]
  },
  {
   "cell_type": "code",
   "execution_count": 21,
   "metadata": {},
   "outputs": [],
   "source": [
    "# This code opens a file in write mode and writes\n",
    "# three lines to it.\n",
    "\n",
    "file = open(\"test_file.txt\", \"w\")\n",
    "\n",
    "lines = [\"Line 1\\n\", \"Line 2\\n\", \"Line 3\\n\"]\n",
    "\n",
    "file.writelines(lines)\n",
    "\n",
    "file.close()\n"
   ]
  },
  {
   "cell_type": "markdown",
   "metadata": {},
   "source": [
    "In this example, we're using the writelines() method to write three lines to the file at once. Each line is represented as a string in the lines list.\n",
    "\n",
    "Erasing the contents of an existing file is not the only way to write to a file. We can also append new data to an existing file. \n",
    "To append data to an existing file without erasing its contents, we can open the file in append mode using the `open()` function with the \"a\" argument:\n"
   ]
  },
  {
   "cell_type": "code",
   "execution_count": 23,
   "metadata": {},
   "outputs": [],
   "source": [
    "\n",
    "# This code appends text to a file. It opens the file in append mode, writes the text, and then closes the file.\n",
    "\n",
    "file = open(\"test_file.txt\", \"a\")\n",
    "\n",
    "file.write(\"This text will be appended to the file\\n\")\n",
    "\n",
    "file.close()\n"
   ]
  },
  {
   "cell_type": "markdown",
   "metadata": {},
   "source": [
    "In this example, we're appending the string \"This text will be appended to the file\" to the existing contents of the file. The contents of the file are not erased, and the new data is added to the end of the file.\n"
   ]
  },
  {
   "cell_type": "markdown",
   "metadata": {},
   "source": [
    "When writing code, it's common to encounter errors or unexpected behavior that can cause our programs to crash or produce incorrect results. Exceptions provide a way to handle these situations by allowing us to gracefully recover from errors and continue executing our code."
   ]
  },
  {
   "cell_type": "markdown",
   "metadata": {},
   "source": [
    "An exception is an error that occurs during the execution of a program. When an exception is raised, the program stops executing and prints an error message that describes what went wrong. There are many types of exceptions in Python, such as NameError, TypeError, ValueError, and many more.\n",
    "Let's take the following piece of code as an example:"
   ]
  },
  {
   "cell_type": "code",
   "execution_count": 26,
   "metadata": {},
   "outputs": [
    {
     "ename": "NameError",
     "evalue": "name 'number' is not defined",
     "output_type": "error",
     "traceback": [
      "\u001b[0;31m---------------------------------------------------------------------------\u001b[0m",
      "\u001b[0;31mNameError\u001b[0m                                 Traceback (most recent call last)",
      "Cell \u001b[0;32mIn[26], line 5\u001b[0m\n\u001b[1;32m      2\u001b[0m y \u001b[39m=\u001b[39m \u001b[39m0\u001b[39m\n\u001b[1;32m      4\u001b[0m \u001b[39m# print(x/y)\u001b[39;00m\n\u001b[0;32m----> 5\u001b[0m \u001b[39mprint\u001b[39m(number)\n",
      "\u001b[0;31mNameError\u001b[0m: name 'number' is not defined"
     ]
    }
   ],
   "source": [
    "x = 1\n",
    "y = 0\n",
    "\n",
    "# print(x/y)\n",
    "print(number)"
   ]
  },
  {
   "cell_type": "markdown",
   "metadata": {},
   "source": [
    "As you can see, the above code will raise a ZeroDivisionError exception because we're attempting to divide by zero. Issues like this may happen from time to time when dealing with user input, or other external sources of data. \n",
    "We can use python's built-in exception handling methods to handle these types of issues. Here's an example:"
   ]
  },
  {
   "cell_type": "code",
   "execution_count": 27,
   "metadata": {},
   "outputs": [
    {
     "name": "stdout",
     "output_type": "stream",
     "text": [
      "There was an error.\n",
      "This will run whether or not an exception is raised.\n"
     ]
    }
   ],
   "source": [
    "try: # the try block contains code that we think will raise an exception\n",
    "  x = int(input(\"x: \"))\n",
    "  y = int(input(\"y: \"))\n",
    "  print(x/y)\n",
    "except: # the except block runs if the exception is raised, instead of ending the program\n",
    "  print(\"There was an error.\")\n",
    "finally: # the finally block runs whether or not an exception is raised\n",
    "  print(\"This will run whether or not an exception is raised.\")"
   ]
  },
  {
   "cell_type": "markdown",
   "metadata": {},
   "source": [
    "We can also handle different types of exceptions using `try`-`except` blocks:"
   ]
  },
  {
   "cell_type": "code",
   "execution_count": 31,
   "metadata": {},
   "outputs": [
    {
     "name": "stdout",
     "output_type": "stream",
     "text": [
      "Can't divide by zero.Please enter non zero number for y\n",
      "This will run whether or not an exception is raised.\n"
     ]
    }
   ],
   "source": [
    "try:\n",
    "  x = int(input(\"x: \"))\n",
    "  y = int(input(\"y: \"))\n",
    "  print(x/y)\n",
    "except ZeroDivisionError: # we can specify a particular type of exception we want to handle\n",
    "  print(\"Can't divide by zero.Please enter non zero number for y\")\n",
    "except ValueError: # ValueError is raised if we try to convert a non-numeric string to an int (for example int(\"hello\"))\n",
    "  print(\"Invalid input. The inputs must be integers.\")\n",
    "except Exception as e:\n",
    "  print('Unknown error: ', e)\n",
    "finally:\n",
    "  print(\"This will run whether or not an exception is raised.\")\n"
   ]
  },
  {
   "cell_type": "markdown",
   "metadata": {},
   "source": [
    "If we want to do something in the event of an exception, we can use an `else` block with the `try`-`except` statement. For example:"
   ]
  },
  {
   "cell_type": "code",
   "execution_count": 40,
   "metadata": {},
   "outputs": [
    {
     "name": "stdout",
     "output_type": "stream",
     "text": [
      "The error is  unsupported operand type(s) for +: 'int' and 'str'\n"
     ]
    }
   ],
   "source": [
    "# try:\n",
    "#   x = int(input(\"x: \"))\n",
    "#   y = int(input(\"y: \"))\n",
    "#   print(x/y)\n",
    "# except (ZeroDivisionError, ValueError):\n",
    "#   print(\"The inputs must be integers and the second input must not be 0.\")\n",
    "# else:\n",
    "#   print(\"Nothing went wrong.\") # if no error is raised, this block will be executed\n",
    "  \n",
    "  \n",
    "try:\n",
    "  x = 1\n",
    "  y = 0\n",
    "  print(x + y + 'ajhdsvb')\n",
    "except Exception as e:\n",
    "  print('The error is ', e)\n"
   ]
  },
  {
   "cell_type": "markdown",
   "metadata": {},
   "source": [
    "Errors raised will propage up any nested functions until it hits a function where the exception is caught."
   ]
  },
  {
   "cell_type": "code",
   "execution_count": 46,
   "metadata": {},
   "outputs": [
    {
     "name": "stdout",
     "output_type": "stream",
     "text": [
      "Error occurred: division by zero\n"
     ]
    }
   ],
   "source": [
    "def function_one():\n",
    "  1/0\n",
    "\n",
    "def function_two():\n",
    "  function_one()\n",
    "\n",
    "def function_three():\n",
    "  function_two()\n",
    "\n",
    "def function_four():  \n",
    "  function_three()\n",
    "\n",
    "try:\n",
    "  function_four()\n",
    "except ZeroDivisionError as e: # we can give the exception a name by using \"as\"\n",
    "  print(\"Error occurred:\", e) # We can print the exception's message"
   ]
  },
  {
   "cell_type": "code",
   "execution_count": 44,
   "metadata": {},
   "outputs": [
    {
     "ename": "TypeError",
     "evalue": "can only concatenate str (not \"int\") to str",
     "output_type": "error",
     "traceback": [
      "\u001b[0;31m---------------------------------------------------------------------------\u001b[0m",
      "\u001b[0;31mTypeError\u001b[0m                                 Traceback (most recent call last)",
      "Cell \u001b[0;32mIn[44], line 6\u001b[0m\n\u001b[1;32m      3\u001b[0m \u001b[39mimport\u001b[39;00m \u001b[39mtraceback\u001b[39;00m\n\u001b[1;32m      5\u001b[0m \u001b[39mtry\u001b[39;00m:\n\u001b[0;32m----> 6\u001b[0m   function_four()\n\u001b[1;32m      7\u001b[0m \u001b[39mexcept\u001b[39;00m \u001b[39mZeroDivisionError\u001b[39;00m:\n\u001b[1;32m      8\u001b[0m   \u001b[39mprint\u001b[39m(\u001b[39m\"\u001b[39m\u001b[39mError occurred.\u001b[39m\u001b[39m\"\u001b[39m)\n",
      "Cell \u001b[0;32mIn[43], line 11\u001b[0m, in \u001b[0;36mfunction_four\u001b[0;34m()\u001b[0m\n\u001b[1;32m     10\u001b[0m \u001b[39mdef\u001b[39;00m \u001b[39mfunction_four\u001b[39m():  \n\u001b[0;32m---> 11\u001b[0m   function_three()\n",
      "Cell \u001b[0;32mIn[43], line 8\u001b[0m, in \u001b[0;36mfunction_three\u001b[0;34m()\u001b[0m\n\u001b[1;32m      7\u001b[0m \u001b[39mdef\u001b[39;00m \u001b[39mfunction_three\u001b[39m():\n\u001b[0;32m----> 8\u001b[0m   function_two()\n",
      "Cell \u001b[0;32mIn[43], line 5\u001b[0m, in \u001b[0;36mfunction_two\u001b[0;34m()\u001b[0m\n\u001b[1;32m      4\u001b[0m \u001b[39mdef\u001b[39;00m \u001b[39mfunction_two\u001b[39m():\n\u001b[0;32m----> 5\u001b[0m   function_one()\n",
      "Cell \u001b[0;32mIn[43], line 2\u001b[0m, in \u001b[0;36mfunction_one\u001b[0;34m()\u001b[0m\n\u001b[1;32m      1\u001b[0m \u001b[39mdef\u001b[39;00m \u001b[39mfunction_one\u001b[39m():\n\u001b[0;32m----> 2\u001b[0m   \u001b[39m'\u001b[39;49m\u001b[39masdas\u001b[39;49m\u001b[39m'\u001b[39;49m \u001b[39m+\u001b[39;49m \u001b[39m234\u001b[39;49m\n",
      "\u001b[0;31mTypeError\u001b[0m: can only concatenate str (not \"int\") to str"
     ]
    }
   ],
   "source": [
    "# Optional: We can use the builtin module traceback to print a stack trace\n",
    "\n",
    "import traceback\n",
    "\n",
    "try:\n",
    "  function_four()\n",
    "except ZeroDivisionError:\n",
    "  print(\"Error occurred.\")\n",
    "  traceback.print_exc()"
   ]
  },
  {
   "cell_type": "code",
   "execution_count": 49,
   "metadata": {},
   "outputs": [
    {
     "name": "stderr",
     "output_type": "stream",
     "text": [
      "Traceback (most recent call last):\n",
      "  File \"/tmp/ipykernel_53751/332769627.py\", line 12, in <module>\n",
      "    user.save()\n",
      "  File \"/tmp/ipykernel_53751/332769627.py\", line 8, in save\n",
      "    raise Exception(\"Error saving user to database\")\n",
      "Exception: Error saving user to database\n"
     ]
    }
   ],
   "source": [
    "import traceback\n",
    "class User:\n",
    "    # name email pass\n",
    "    pass\n",
    "\n",
    "    def save(self):\n",
    "        # save to database\n",
    "        raise Exception(\"Error saving user to database\")\n",
    "\n",
    "user = User()\n",
    "try:\n",
    "    user.save()\n",
    "except Exception as e:\n",
    "    traceback.print_exc()\n",
    "    # print(e)\n"
   ]
  }
 ],
 "metadata": {
  "kernelspec": {
   "display_name": "Python 3 (ipykernel)",
   "language": "python",
   "name": "python3"
  },
  "language_info": {
   "codemirror_mode": {
    "name": "ipython",
    "version": 3
   },
   "file_extension": ".py",
   "mimetype": "text/x-python",
   "name": "python",
   "nbconvert_exporter": "python",
   "pygments_lexer": "ipython3",
   "version": "3.10.6"
  }
 },
 "nbformat": 4,
 "nbformat_minor": 2
}
